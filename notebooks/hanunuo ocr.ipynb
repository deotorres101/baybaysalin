{
 "cells": [
  {
   "cell_type": "code",
   "execution_count": 1,
   "id": "1239accb",
   "metadata": {},
   "outputs": [],
   "source": [
    "# Imports\n",
    "import tensorflow as tf\n",
    "\n",
    "from tensorflow.keras.models import Sequential\n",
    "from tensorflow.keras.layers import Dense, Conv2D, Flatten, Dropout, MaxPooling2D\n",
    "from tensorflow.keras.preprocessing.image import ImageDataGenerator\n",
    "\n",
    "import os\n",
    "import pandas as pd\n",
    "import numpy as np\n",
    "import matplotlib.pyplot as plt"
   ]
  },
  {
   "cell_type": "code",
   "execution_count": 2,
   "id": "49146f51",
   "metadata": {},
   "outputs": [],
   "source": [
    "# Get Project Files | LOAD\n",
    "IMAGE_DIR = 'dataset'\n",
    "\n",
    "FILE_LIST_TEMP = []\n",
    "\n",
    "for dirname, _, filenames in os.walk(IMAGE_DIR):\n",
    "    for filename in filenames:\n",
    "        FILE_LIST_TEMP.append(os.path.join(dirname, filename))\n",
    "        \n",
    "# creating the finalized file list and label list\n",
    "FILE_LIST = []\n",
    "LABELS = []\n",
    "\n",
    "for FILE_PATH in FILE_LIST_TEMP:\n",
    "    label = FILE_PATH.split(os.path.sep)[-2]\n",
    "    \n",
    "    FILE_LIST.append(FILE_PATH)\n",
    "    LABELS.append(label)\n",
    "\n",
    "\n",
    "# Variables for pre-processing and training.\n",
    "BATCH_SIZE = 32 # the higher the number, baka di na kayanin ng pc hahaha\n",
    "epochs = 50 # number of times the model will be trained\n",
    "IMG_HEIGHT = 32\n",
    "IMG_WIDTH = 32"
   ]
  },
  {
   "cell_type": "code",
   "execution_count": 3,
   "id": "25aef28f",
   "metadata": {},
   "outputs": [
    {
     "data": {
      "text/html": [
       "<div>\n",
       "<style scoped>\n",
       "    .dataframe tbody tr th:only-of-type {\n",
       "        vertical-align: middle;\n",
       "    }\n",
       "\n",
       "    .dataframe tbody tr th {\n",
       "        vertical-align: top;\n",
       "    }\n",
       "\n",
       "    .dataframe thead th {\n",
       "        text-align: right;\n",
       "    }\n",
       "</style>\n",
       "<table border=\"1\" class=\"dataframe\">\n",
       "  <thead>\n",
       "    <tr style=\"text-align: right;\">\n",
       "      <th></th>\n",
       "      <th>File path</th>\n",
       "      <th>Label</th>\n",
       "    </tr>\n",
       "  </thead>\n",
       "  <tbody>\n",
       "    <tr>\n",
       "      <th>0</th>\n",
       "      <td>dataset/ya/_3_5509983.png</td>\n",
       "      <td>ya</td>\n",
       "    </tr>\n",
       "    <tr>\n",
       "      <th>1</th>\n",
       "      <td>dataset/ya/_10_5506981.png</td>\n",
       "      <td>ya</td>\n",
       "    </tr>\n",
       "    <tr>\n",
       "      <th>2</th>\n",
       "      <td>dataset/ya/_9_3422722.png</td>\n",
       "      <td>ya</td>\n",
       "    </tr>\n",
       "    <tr>\n",
       "      <th>3</th>\n",
       "      <td>dataset/ya/_1_7534464.png</td>\n",
       "      <td>ya</td>\n",
       "    </tr>\n",
       "    <tr>\n",
       "      <th>4</th>\n",
       "      <td>dataset/ya/_2_6948069.png</td>\n",
       "      <td>ya</td>\n",
       "    </tr>\n",
       "    <tr>\n",
       "      <th>...</th>\n",
       "      <td>...</td>\n",
       "      <td>...</td>\n",
       "    </tr>\n",
       "    <tr>\n",
       "      <th>62995</th>\n",
       "      <td>dataset/la/_0_9429944.png</td>\n",
       "      <td>la</td>\n",
       "    </tr>\n",
       "    <tr>\n",
       "      <th>62996</th>\n",
       "      <td>dataset/la/_2_3522546.png</td>\n",
       "      <td>la</td>\n",
       "    </tr>\n",
       "    <tr>\n",
       "      <th>62997</th>\n",
       "      <td>dataset/la/_0_2781433.png</td>\n",
       "      <td>la</td>\n",
       "    </tr>\n",
       "    <tr>\n",
       "      <th>62998</th>\n",
       "      <td>dataset/la/_1_4777432.png</td>\n",
       "      <td>la</td>\n",
       "    </tr>\n",
       "    <tr>\n",
       "      <th>62999</th>\n",
       "      <td>dataset/la/_4_1698629.png</td>\n",
       "      <td>la</td>\n",
       "    </tr>\n",
       "  </tbody>\n",
       "</table>\n",
       "<p>63000 rows × 2 columns</p>\n",
       "</div>"
      ],
      "text/plain": [
       "                        File path Label\n",
       "0       dataset/ya/_3_5509983.png    ya\n",
       "1      dataset/ya/_10_5506981.png    ya\n",
       "2       dataset/ya/_9_3422722.png    ya\n",
       "3       dataset/ya/_1_7534464.png    ya\n",
       "4       dataset/ya/_2_6948069.png    ya\n",
       "...                           ...   ...\n",
       "62995   dataset/la/_0_9429944.png    la\n",
       "62996   dataset/la/_2_3522546.png    la\n",
       "62997   dataset/la/_0_2781433.png    la\n",
       "62998   dataset/la/_1_4777432.png    la\n",
       "62999   dataset/la/_4_1698629.png    la\n",
       "\n",
       "[63000 rows x 2 columns]"
      ]
     },
     "execution_count": 3,
     "metadata": {},
     "output_type": "execute_result"
    }
   ],
   "source": [
    "df = pd.DataFrame(list(zip(FILE_LIST, LABELS)), columns = ['File path', 'Label'])\n",
    "df"
   ]
  },
  {
   "cell_type": "code",
   "execution_count": 4,
   "id": "6458722b",
   "metadata": {},
   "outputs": [
    {
     "data": {
      "text/html": [
       "<div>\n",
       "<style scoped>\n",
       "    .dataframe tbody tr th:only-of-type {\n",
       "        vertical-align: middle;\n",
       "    }\n",
       "\n",
       "    .dataframe tbody tr th {\n",
       "        vertical-align: top;\n",
       "    }\n",
       "\n",
       "    .dataframe thead th {\n",
       "        text-align: right;\n",
       "    }\n",
       "</style>\n",
       "<table border=\"1\" class=\"dataframe\">\n",
       "  <thead>\n",
       "    <tr style=\"text-align: right;\">\n",
       "      <th></th>\n",
       "      <th>File path</th>\n",
       "      <th>Label</th>\n",
       "    </tr>\n",
       "  </thead>\n",
       "  <tbody>\n",
       "    <tr>\n",
       "      <th>0</th>\n",
       "      <td>dataset/sa/_5_440146.png</td>\n",
       "      <td>sa</td>\n",
       "    </tr>\n",
       "    <tr>\n",
       "      <th>1</th>\n",
       "      <td>dataset/wu/_4_126206.png</td>\n",
       "      <td>wu</td>\n",
       "    </tr>\n",
       "    <tr>\n",
       "      <th>2</th>\n",
       "      <td>dataset/gu/_3_5392970.png</td>\n",
       "      <td>gu</td>\n",
       "    </tr>\n",
       "    <tr>\n",
       "      <th>3</th>\n",
       "      <td>dataset/yu/_3_1462945.png</td>\n",
       "      <td>yu</td>\n",
       "    </tr>\n",
       "    <tr>\n",
       "      <th>4</th>\n",
       "      <td>dataset/a/_0_9171424.png</td>\n",
       "      <td>a</td>\n",
       "    </tr>\n",
       "    <tr>\n",
       "      <th>...</th>\n",
       "      <td>...</td>\n",
       "      <td>...</td>\n",
       "    </tr>\n",
       "    <tr>\n",
       "      <th>62995</th>\n",
       "      <td>dataset/k/_4_1273399.png</td>\n",
       "      <td>k</td>\n",
       "    </tr>\n",
       "    <tr>\n",
       "      <th>62996</th>\n",
       "      <td>dataset/si/_3_3612564.png</td>\n",
       "      <td>si</td>\n",
       "    </tr>\n",
       "    <tr>\n",
       "      <th>62997</th>\n",
       "      <td>dataset/ni/_4_3503415.png</td>\n",
       "      <td>ni</td>\n",
       "    </tr>\n",
       "    <tr>\n",
       "      <th>62998</th>\n",
       "      <td>dataset/la/_2_1811414.png</td>\n",
       "      <td>la</td>\n",
       "    </tr>\n",
       "    <tr>\n",
       "      <th>62999</th>\n",
       "      <td>dataset/yi/_4_1704206.png</td>\n",
       "      <td>yi</td>\n",
       "    </tr>\n",
       "  </tbody>\n",
       "</table>\n",
       "<p>63000 rows × 2 columns</p>\n",
       "</div>"
      ],
      "text/plain": [
       "                       File path Label\n",
       "0       dataset/sa/_5_440146.png    sa\n",
       "1       dataset/wu/_4_126206.png    wu\n",
       "2      dataset/gu/_3_5392970.png    gu\n",
       "3      dataset/yu/_3_1462945.png    yu\n",
       "4       dataset/a/_0_9171424.png     a\n",
       "...                          ...   ...\n",
       "62995   dataset/k/_4_1273399.png     k\n",
       "62996  dataset/si/_3_3612564.png    si\n",
       "62997  dataset/ni/_4_3503415.png    ni\n",
       "62998  dataset/la/_2_1811414.png    la\n",
       "62999  dataset/yi/_4_1704206.png    yi\n",
       "\n",
       "[63000 rows x 2 columns]"
      ]
     },
     "execution_count": 4,
     "metadata": {},
     "output_type": "execute_result"
    }
   ],
   "source": [
    "# shuffling the dataframe\n",
    "df = df.sample(frac=1).reset_index(drop=True)\n",
    "df"
   ]
  },
  {
   "cell_type": "code",
   "execution_count": 5,
   "id": "87d03d6a",
   "metadata": {},
   "outputs": [],
   "source": [
    "# for splitting train and testing dataframe\n",
    "from sklearn.model_selection import train_test_split\n",
    "\n",
    "train_ratio = 0.75\n",
    "validation_ratio = 0.10\n",
    "test_ratio = 0.25\n",
    "\n",
    "train, test = train_test_split(df, test_size = test_ratio)\n",
    "val, test = train_test_split(test, test_size=test_ratio/(test_ratio + validation_ratio))"
   ]
  },
  {
   "cell_type": "code",
   "execution_count": 6,
   "id": "f12d3508",
   "metadata": {},
   "outputs": [
    {
     "name": "stdout",
     "output_type": "stream",
     "text": [
      "Found 47250 validated image filenames belonging to 63 classes.\n",
      "Found 4500 validated image filenames belonging to 63 classes.\n",
      "Found 11250 validated image filenames belonging to 63 classes.\n"
     ]
    }
   ],
   "source": [
    "# PRE PROCESS\n",
    "# creating an image data generator\n",
    "from tensorflow.keras.preprocessing.image import ImageDataGenerator\n",
    "\n",
    "img_datagen = ImageDataGenerator(rescale=1./255)\n",
    "\n",
    "x_train = img_datagen.flow_from_dataframe(dataframe=train, x_col=\"File path\", y_col=\"Label\",\n",
    "                                         target_size=(IMG_HEIGHT,IMG_WIDTH), batch_size=BATCH_SIZE, class_mode='sparse', color_mode='grayscale')\n",
    "\n",
    "x_val = img_datagen.flow_from_dataframe(dataframe=val, x_col=\"File path\", y_col=\"Label\",\n",
    "                                         target_size=(IMG_HEIGHT,IMG_WIDTH), batch_size=BATCH_SIZE, class_mode='sparse', color_mode='grayscale')\n",
    "\n",
    "x_test = img_datagen.flow_from_dataframe(dataframe=test, x_col=\"File path\", y_col=\"Label\",\n",
    "                                         target_size=(IMG_HEIGHT,IMG_WIDTH), shuffle=False, batch_size=BATCH_SIZE, class_mode='sparse', color_mode='grayscale')"
   ]
  },
  {
   "cell_type": "code",
   "execution_count": 7,
   "id": "4501a5f4",
   "metadata": {},
   "outputs": [
    {
     "data": {
      "image/png": "[encoded data removed]",
      "text/plain": [
       "<Figure size 360x1080 with 5 Axes>"
      ]
     },
     "metadata": {
      "needs_background": "light"
     },
     "output_type": "display_data"
    }
   ],
   "source": [
    "#PANG PLOT ITO\n",
    "def plotImages(images_arr, probabilities = False):\n",
    "    fig, axes = plt.subplots(len(images_arr), 1, figsize=(5,len(images_arr) * 3))\n",
    "    for img, ax in zip( images_arr, axes):\n",
    "        ax.imshow(img)\n",
    "        ax.axis('off')\n",
    "    plt.show()\n",
    "\n",
    "sample_training_images, _ = next(x_train)\n",
    "plotImages(sample_training_images[:5])"
   ]
  },
  {
   "cell_type": "code",
   "execution_count": 8,
   "id": "4e2e9b59",
   "metadata": {
    "scrolled": true
   },
   "outputs": [],
   "source": [
    "def build_model(img_height, img_width, output_layer):\n",
    "    # BUILD THE MODEL\n",
    "    # CNN Architecture\n",
    "    model = Sequential()\n",
    "    model.add(Conv2D(32, (3, 3), input_shape=(img_height, img_width, 1))) # Input Layer\n",
    "    # Subsequent Layes | Hidden Layer\n",
    "    model.add(MaxPooling2D((2, 2)))\n",
    "    model.add(Conv2D(64, (3, 3)))\n",
    "    model.add(MaxPooling2D((2, 2)))\n",
    "    model.add(Conv2D(64, (3, 3)))\n",
    "\n",
    "    #Dense layers | Pang-classify\n",
    "    model.add(Flatten())\n",
    "    model.add(Dense(64, activation='relu'))\n",
    "    model.add(Dense(output_layer))\n",
    "\n",
    "    #Compile\n",
    "    model.compile(optimizer='adam',\n",
    "                 loss=tf.keras.losses.SparseCategoricalCrossentropy(from_logits=True),\n",
    "                 metrics=['accuracy'])\n",
    "    model.summary()\n",
    "    return model"
   ]
  },
  {
   "cell_type": "code",
   "execution_count": 9,
   "id": "90309a96",
   "metadata": {},
   "outputs": [
    {
     "name": "stderr",
     "output_type": "stream",
     "text": [
      "2021-11-07 15:32:04.546312: I tensorflow/stream_executor/cuda/cuda_gpu_executor.cc:937] successful NUMA node read from SysFS had negative value (-1), but there must be at least one NUMA node, so returning NUMA node zero\n",
      "2021-11-07 15:32:04.551912: I tensorflow/stream_executor/cuda/cuda_gpu_executor.cc:937] successful NUMA node read from SysFS had negative value (-1), but there must be at least one NUMA node, so returning NUMA node zero\n",
      "2021-11-07 15:32:04.552326: I tensorflow/stream_executor/cuda/cuda_gpu_executor.cc:937] successful NUMA node read from SysFS had negative value (-1), but there must be at least one NUMA node, so returning NUMA node zero\n",
      "2021-11-07 15:32:04.553131: I tensorflow/core/platform/cpu_feature_guard.cc:142] This TensorFlow binary is optimized with oneAPI Deep Neural Network Library (oneDNN) to use the following CPU instructions in performance-critical operations:  AVX2 FMA\n",
      "To enable them in other operations, rebuild TensorFlow with the appropriate compiler flags.\n",
      "2021-11-07 15:32:04.553434: I tensorflow/stream_executor/cuda/cuda_gpu_executor.cc:937] successful NUMA node read from SysFS had negative value (-1), but there must be at least one NUMA node, so returning NUMA node zero\n",
      "2021-11-07 15:32:04.553802: I tensorflow/stream_executor/cuda/cuda_gpu_executor.cc:937] successful NUMA node read from SysFS had negative value (-1), but there must be at least one NUMA node, so returning NUMA node zero\n",
      "2021-11-07 15:32:04.554170: I tensorflow/stream_executor/cuda/cuda_gpu_executor.cc:937] successful NUMA node read from SysFS had negative value (-1), but there must be at least one NUMA node, so returning NUMA node zero\n",
      "2021-11-07 15:32:04.876383: I tensorflow/stream_executor/cuda/cuda_gpu_executor.cc:937] successful NUMA node read from SysFS had negative value (-1), but there must be at least one NUMA node, so returning NUMA node zero\n",
      "2021-11-07 15:32:04.876682: I tensorflow/stream_executor/cuda/cuda_gpu_executor.cc:937] successful NUMA node read from SysFS had negative value (-1), but there must be at least one NUMA node, so returning NUMA node zero\n",
      "2021-11-07 15:32:04.876939: I tensorflow/stream_executor/cuda/cuda_gpu_executor.cc:937] successful NUMA node read from SysFS had negative value (-1), but there must be at least one NUMA node, so returning NUMA node zero\n",
      "2021-11-07 15:32:04.877172: I tensorflow/core/common_runtime/gpu/gpu_device.cc:1510] Created device /job:localhost/replica:0/task:0/device:GPU:0 with 2016 MB memory:  -> device: 0, name: NVIDIA GeForce GTX 1650, pci bus id: 0000:07:00.0, compute capability: 7.5\n",
      "2021-11-07 15:32:04.984438: I tensorflow/compiler/mlir/mlir_graph_optimization_pass.cc:185] None of the MLIR Optimization Passes are enabled (registered 2)\n"
     ]
    },
    {
     "name": "stdout",
     "output_type": "stream",
     "text": [
      "Model: \"sequential\"\n",
      "_________________________________________________________________\n",
      "Layer (type)                 Output Shape              Param #   \n",
      "=================================================================\n",
      "conv2d (Conv2D)              (None, 30, 30, 32)        320       \n",
      "_________________________________________________________________\n",
      "max_pooling2d (MaxPooling2D) (None, 15, 15, 32)        0         \n",
      "_________________________________________________________________\n",
      "conv2d_1 (Conv2D)            (None, 13, 13, 64)        18496     \n",
      "_________________________________________________________________\n",
      "max_pooling2d_1 (MaxPooling2 (None, 6, 6, 64)          0         \n",
      "_________________________________________________________________\n",
      "conv2d_2 (Conv2D)            (None, 4, 4, 64)          36928     \n",
      "_________________________________________________________________\n",
      "flatten (Flatten)            (None, 1024)              0         \n",
      "_________________________________________________________________\n",
      "dense (Dense)                (None, 64)                65600     \n",
      "_________________________________________________________________\n",
      "dense_1 (Dense)              (None, 63)                4095      \n",
      "=================================================================\n",
      "Total params: 125,439\n",
      "Trainable params: 125,439\n",
      "Non-trainable params: 0\n",
      "_________________________________________________________________\n",
      "Epoch 1/50\n"
     ]
    },
    {
     "name": "stderr",
     "output_type": "stream",
     "text": [
      "2021-11-07 15:32:05.668351: I tensorflow/stream_executor/cuda/cuda_dnn.cc:369] Loaded cuDNN version 8201\n"
     ]
    },
    {
     "name": "stdout",
     "output_type": "stream",
     "text": [
      "1477/1477 [==============================] - 276s 184ms/step - loss: 2.0959 - accuracy: 0.4123 - val_loss: 0.9370 - val_accuracy: 0.7087\n",
      "Epoch 2/50\n",
      "1477/1477 [==============================] - 59s 40ms/step - loss: 0.7269 - accuracy: 0.7650 - val_loss: 0.6348 - val_accuracy: 0.7980\n",
      "Epoch 3/50\n",
      "1477/1477 [==============================] - 32s 22ms/step - loss: 0.4749 - accuracy: 0.8440 - val_loss: 0.4951 - val_accuracy: 0.8342\n",
      "Epoch 4/50\n",
      "1477/1477 [==============================] - 32s 22ms/step - loss: 0.3557 - accuracy: 0.8803 - val_loss: 0.4375 - val_accuracy: 0.8573\n",
      "Epoch 5/50\n",
      "1477/1477 [==============================] - 32s 22ms/step - loss: 0.2880 - accuracy: 0.9021 - val_loss: 0.4009 - val_accuracy: 0.8787\n",
      "Epoch 6/50\n",
      "1477/1477 [==============================] - 32s 22ms/step - loss: 0.2495 - accuracy: 0.9168 - val_loss: 0.2959 - val_accuracy: 0.9064\n",
      "Epoch 7/50\n",
      "1477/1477 [==============================] - 32s 22ms/step - loss: 0.2246 - accuracy: 0.9240 - val_loss: 0.3124 - val_accuracy: 0.9000\n",
      "Epoch 8/50\n",
      "1477/1477 [==============================] - 32s 22ms/step - loss: 0.1985 - accuracy: 0.9342 - val_loss: 0.3096 - val_accuracy: 0.9078\n",
      "Epoch 9/50\n",
      "1477/1477 [==============================] - 32s 22ms/step - loss: 0.1782 - accuracy: 0.9406 - val_loss: 0.3056 - val_accuracy: 0.9080\n"
     ]
    },
    {
     "name": "stderr",
     "output_type": "stream",
     "text": [
      "2021-11-07 15:41:25.587568: W tensorflow/python/util/util.cc:348] Sets are not currently considered sequences, but this may change in the future, so consider avoiding using them.\n"
     ]
    },
    {
     "name": "stdout",
     "output_type": "stream",
     "text": [
      "INFO:tensorflow:Assets written to: models/hanunuo_model/assets\n"
     ]
    }
   ],
   "source": [
    "# FIT THE DATA TO THE MODEL\n",
    "save_dir = 'models'\n",
    "saved_model = 'hanunuo_model'\n",
    "OUTPUT_LAYERS = len(list(x_train.class_indices.keys()))\n",
    "PATIENCE = 3\n",
    "\n",
    "if saved_model not in os.listdir(save_dir):\n",
    "    model = build_model(IMG_HEIGHT, IMG_WIDTH, OUTPUT_LAYERS)\n",
    "    early_stopping = tf.keras.callbacks.EarlyStopping(monitor='val_loss',\n",
    "                                                patience=PATIENCE,\n",
    "                                                mode='min')\n",
    "\n",
    "    history = model.fit(x_train,\n",
    "                       epochs=epochs,\n",
    "                       validation_data=x_val,\n",
    "                       callbacks=early_stopping)\n",
    "    model.save(os.path.join(save_dir, saved_model))\n",
    "    model.save(f'{os.path.join(save_dir, saved_model)}.h5')\n",
    "else:\n",
    "    model = tf.keras.models.load_model(os.path.join(save_dir, saved_model))\n",
    "    model.summary()"
   ]
  },
  {
   "cell_type": "code",
   "execution_count": 10,
   "id": "89a1240d",
   "metadata": {},
   "outputs": [
    {
     "name": "stdout",
     "output_type": "stream",
     "text": [
      "352/352 [==============================] - 71s 202ms/step - loss: 0.3203 - accuracy: 0.9088\n",
      "Test accuracy is :  90.88000059127808 %\n"
     ]
    }
   ],
   "source": [
    "test_accuracy = model.evaluate(x_test)[1] * 100\n",
    "print('Test accuracy is : ',test_accuracy, '%' )"
   ]
  },
  {
   "cell_type": "code",
   "execution_count": 11,
   "id": "4fb1d271",
   "metadata": {},
   "outputs": [
    {
     "name": "stdout",
     "output_type": "stream",
     "text": [
      "{'a': 0, 'b': 1, 'ba': 2, 'bi': 3, 'bu': 4, 'd': 5, 'da': 6, 'di': 7, 'du': 8, 'g': 9, 'ga': 10, 'gi': 11, 'gu': 12, 'h': 13, 'ha': 14, 'hi': 15, 'hu': 16, 'i': 17, 'k': 18, 'ka': 19, 'ki': 20, 'ku': 21, 'l': 22, 'la': 23, 'li': 24, 'lu': 25, 'm': 26, 'ma': 27, 'mi': 28, 'mu': 29, 'n': 30, 'na': 31, 'ng': 32, 'nga': 33, 'ngi': 34, 'ngu': 35, 'ni': 36, 'nu': 37, 'p': 38, 'pa': 39, 'pi': 40, 'pu': 41, 'r': 42, 'ra': 43, 'ri': 44, 'ru': 45, 's': 46, 'sa': 47, 'si': 48, 'su': 49, 't': 50, 'ta': 51, 'ti': 52, 'tu': 53, 'u': 54, 'w': 55, 'wa': 56, 'wi': 57, 'wu': 58, 'y': 59, 'ya': 60, 'yi': 61, 'yu': 62}\n"
     ]
    }
   ],
   "source": [
    "# Show class index\n",
    "print(x_train.class_indices)\n",
    "baybayin_classes = list(x_train.class_indices.keys())"
   ]
  }
 ],
 "metadata": {
  "kernelspec": {
   "display_name": "Python 3 (ipykernel)",
   "language": "python",
   "name": "python3"
  },
  "language_info": {
   "codemirror_mode": {
    "name": "ipython",
    "version": 3
   },
   "file_extension": ".py",
   "mimetype": "text/x-python",
   "name": "python",
   "nbconvert_exporter": "python",
   "pygments_lexer": "ipython3",
   "version": "3.8.11"
  }
 },
 "nbformat": 4,
 "nbformat_minor": 5
}
