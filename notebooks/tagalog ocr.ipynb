{
 "cells": [
  {
   "cell_type": "code",
   "execution_count": 1,
   "id": "1239accb",
   "metadata": {},
   "outputs": [],
   "source": [
    "# Imports\n",
    "import tensorflow as tf\n",
    "\n",
    "from tensorflow.keras.models import Sequential\n",
    "from tensorflow.keras.layers import Dense, Conv2D, Flatten, Dropout, MaxPooling2D\n",
    "from tensorflow.keras.preprocessing.image import ImageDataGenerator\n",
    "\n",
    "import os\n",
    "import pandas as pd\n",
    "import numpy as np\n",
    "import matplotlib.pyplot as plt"
   ]
  },
  {
   "cell_type": "code",
   "execution_count": 2,
   "id": "49146f51",
   "metadata": {},
   "outputs": [],
   "source": [
    "# Get Project Files | LOAD\n",
    "IMAGE_DIR = 'dataset'\n",
    "\n",
    "FILE_LIST_TEMP = []\n",
    "\n",
    "for dirname, _, filenames in os.walk(IMAGE_DIR):\n",
    "    for filename in filenames:\n",
    "        FILE_LIST_TEMP.append(os.path.join(dirname, filename))\n",
    "        \n",
    "# creating the finalized file list and label list\n",
    "FILE_LIST = []\n",
    "LABELS = []\n",
    "\n",
    "for FILE_PATH in FILE_LIST_TEMP:\n",
    "    label = FILE_PATH.split(os.path.sep)[-2]\n",
    "    \n",
    "    FILE_LIST.append(FILE_PATH)\n",
    "    LABELS.append(label)\n",
    "\n",
    "\n",
    "# Variables for pre-processing and training.\n",
    "BATCH_SIZE = 32 # the higher the number, baka di na kayanin ng pc hahaha\n",
    "epochs = 50 # number of times the model will be trained\n",
    "IMG_HEIGHT = 32\n",
    "IMG_WIDTH = 32"
   ]
  },
  {
   "cell_type": "code",
   "execution_count": 3,
   "id": "25aef28f",
   "metadata": {},
   "outputs": [
    {
     "data": {
      "text/html": [
       "<div>\n",
       "<style scoped>\n",
       "    .dataframe tbody tr th:only-of-type {\n",
       "        vertical-align: middle;\n",
       "    }\n",
       "\n",
       "    .dataframe tbody tr th {\n",
       "        vertical-align: top;\n",
       "    }\n",
       "\n",
       "    .dataframe thead th {\n",
       "        text-align: right;\n",
       "    }\n",
       "</style>\n",
       "<table border=\"1\" class=\"dataframe\">\n",
       "  <thead>\n",
       "    <tr style=\"text-align: right;\">\n",
       "      <th></th>\n",
       "      <th>File path</th>\n",
       "      <th>Label</th>\n",
       "    </tr>\n",
       "  </thead>\n",
       "  <tbody>\n",
       "    <tr>\n",
       "      <th>0</th>\n",
       "      <td>dataset/nge-ngi/_9_6987225.png</td>\n",
       "      <td>nge-ngi</td>\n",
       "    </tr>\n",
       "    <tr>\n",
       "      <th>1</th>\n",
       "      <td>dataset/nge-ngi/_1_5235882.png</td>\n",
       "      <td>nge-ngi</td>\n",
       "    </tr>\n",
       "    <tr>\n",
       "      <th>2</th>\n",
       "      <td>dataset/nge-ngi/_6_8952843.png</td>\n",
       "      <td>nge-ngi</td>\n",
       "    </tr>\n",
       "    <tr>\n",
       "      <th>3</th>\n",
       "      <td>dataset/nge-ngi/_6_1559106.png</td>\n",
       "      <td>nge-ngi</td>\n",
       "    </tr>\n",
       "    <tr>\n",
       "      <th>4</th>\n",
       "      <td>dataset/nge-ngi/_8_5534911.png</td>\n",
       "      <td>nge-ngi</td>\n",
       "    </tr>\n",
       "    <tr>\n",
       "      <th>...</th>\n",
       "      <td>...</td>\n",
       "      <td>...</td>\n",
       "    </tr>\n",
       "    <tr>\n",
       "      <th>58995</th>\n",
       "      <td>dataset/la/_6_6274865.png</td>\n",
       "      <td>la</td>\n",
       "    </tr>\n",
       "    <tr>\n",
       "      <th>58996</th>\n",
       "      <td>dataset/la/_6_2040445.png</td>\n",
       "      <td>la</td>\n",
       "    </tr>\n",
       "    <tr>\n",
       "      <th>58997</th>\n",
       "      <td>dataset/la/_2_6576673.png</td>\n",
       "      <td>la</td>\n",
       "    </tr>\n",
       "    <tr>\n",
       "      <th>58998</th>\n",
       "      <td>dataset/la/_7_4761531.png</td>\n",
       "      <td>la</td>\n",
       "    </tr>\n",
       "    <tr>\n",
       "      <th>58999</th>\n",
       "      <td>dataset/la/_5_7894164.png</td>\n",
       "      <td>la</td>\n",
       "    </tr>\n",
       "  </tbody>\n",
       "</table>\n",
       "<p>59000 rows × 2 columns</p>\n",
       "</div>"
      ],
      "text/plain": [
       "                            File path    Label\n",
       "0      dataset/nge-ngi/_9_6987225.png  nge-ngi\n",
       "1      dataset/nge-ngi/_1_5235882.png  nge-ngi\n",
       "2      dataset/nge-ngi/_6_8952843.png  nge-ngi\n",
       "3      dataset/nge-ngi/_6_1559106.png  nge-ngi\n",
       "4      dataset/nge-ngi/_8_5534911.png  nge-ngi\n",
       "...                               ...      ...\n",
       "58995       dataset/la/_6_6274865.png       la\n",
       "58996       dataset/la/_6_2040445.png       la\n",
       "58997       dataset/la/_2_6576673.png       la\n",
       "58998       dataset/la/_7_4761531.png       la\n",
       "58999       dataset/la/_5_7894164.png       la\n",
       "\n",
       "[59000 rows x 2 columns]"
      ]
     },
     "execution_count": 3,
     "metadata": {},
     "output_type": "execute_result"
    }
   ],
   "source": [
    "df = pd.DataFrame(list(zip(FILE_LIST, LABELS)), columns = ['File path', 'Label'])\n",
    "df"
   ]
  },
  {
   "cell_type": "code",
   "execution_count": 4,
   "id": "6458722b",
   "metadata": {},
   "outputs": [
    {
     "data": {
      "text/html": [
       "<div>\n",
       "<style scoped>\n",
       "    .dataframe tbody tr th:only-of-type {\n",
       "        vertical-align: middle;\n",
       "    }\n",
       "\n",
       "    .dataframe tbody tr th {\n",
       "        vertical-align: top;\n",
       "    }\n",
       "\n",
       "    .dataframe thead th {\n",
       "        text-align: right;\n",
       "    }\n",
       "</style>\n",
       "<table border=\"1\" class=\"dataframe\">\n",
       "  <thead>\n",
       "    <tr style=\"text-align: right;\">\n",
       "      <th></th>\n",
       "      <th>File path</th>\n",
       "      <th>Label</th>\n",
       "    </tr>\n",
       "  </thead>\n",
       "  <tbody>\n",
       "    <tr>\n",
       "      <th>0</th>\n",
       "      <td>dataset/ya/_2_8184712.png</td>\n",
       "      <td>ya</td>\n",
       "    </tr>\n",
       "    <tr>\n",
       "      <th>1</th>\n",
       "      <td>dataset/pa/_3_7553328.png</td>\n",
       "      <td>pa</td>\n",
       "    </tr>\n",
       "    <tr>\n",
       "      <th>2</th>\n",
       "      <td>dataset/no-nu/_2_3256426.png</td>\n",
       "      <td>no-nu</td>\n",
       "    </tr>\n",
       "    <tr>\n",
       "      <th>3</th>\n",
       "      <td>dataset/me-mi/_9_9420608.png</td>\n",
       "      <td>me-mi</td>\n",
       "    </tr>\n",
       "    <tr>\n",
       "      <th>4</th>\n",
       "      <td>dataset/na/_4_2775828.png</td>\n",
       "      <td>na</td>\n",
       "    </tr>\n",
       "    <tr>\n",
       "      <th>...</th>\n",
       "      <td>...</td>\n",
       "      <td>...</td>\n",
       "    </tr>\n",
       "    <tr>\n",
       "      <th>58995</th>\n",
       "      <td>dataset/go-gu/_7_7027805.png</td>\n",
       "      <td>go-gu</td>\n",
       "    </tr>\n",
       "    <tr>\n",
       "      <th>58996</th>\n",
       "      <td>dataset/se-si/_0_9940464.png</td>\n",
       "      <td>se-si</td>\n",
       "    </tr>\n",
       "    <tr>\n",
       "      <th>58997</th>\n",
       "      <td>dataset/de-di/_16_3320412.png</td>\n",
       "      <td>de-di</td>\n",
       "    </tr>\n",
       "    <tr>\n",
       "      <th>58998</th>\n",
       "      <td>dataset/da/_19_5879013.png</td>\n",
       "      <td>da</td>\n",
       "    </tr>\n",
       "    <tr>\n",
       "      <th>58999</th>\n",
       "      <td>dataset/n/_5_8631084.png</td>\n",
       "      <td>n</td>\n",
       "    </tr>\n",
       "  </tbody>\n",
       "</table>\n",
       "<p>59000 rows × 2 columns</p>\n",
       "</div>"
      ],
      "text/plain": [
       "                           File path  Label\n",
       "0          dataset/ya/_2_8184712.png     ya\n",
       "1          dataset/pa/_3_7553328.png     pa\n",
       "2       dataset/no-nu/_2_3256426.png  no-nu\n",
       "3       dataset/me-mi/_9_9420608.png  me-mi\n",
       "4          dataset/na/_4_2775828.png     na\n",
       "...                              ...    ...\n",
       "58995   dataset/go-gu/_7_7027805.png  go-gu\n",
       "58996   dataset/se-si/_0_9940464.png  se-si\n",
       "58997  dataset/de-di/_16_3320412.png  de-di\n",
       "58998     dataset/da/_19_5879013.png     da\n",
       "58999       dataset/n/_5_8631084.png      n\n",
       "\n",
       "[59000 rows x 2 columns]"
      ]
     },
     "execution_count": 4,
     "metadata": {},
     "output_type": "execute_result"
    }
   ],
   "source": [
    "# shuffling the dataframe\n",
    "df = df.sample(frac=1).reset_index(drop=True)\n",
    "df"
   ]
  },
  {
   "cell_type": "code",
   "execution_count": 5,
   "id": "87d03d6a",
   "metadata": {},
   "outputs": [],
   "source": [
    "# for splitting train and testing dataframe\n",
    "from sklearn.model_selection import train_test_split\n",
    "\n",
    "train_ratio = 0.75\n",
    "validation_ratio = 0.10\n",
    "test_ratio = 0.25\n",
    "\n",
    "train, test = train_test_split(df, test_size = test_ratio)\n",
    "val, test = train_test_split(test, test_size=test_ratio/(test_ratio + validation_ratio))"
   ]
  },
  {
   "cell_type": "code",
   "execution_count": 6,
   "id": "f12d3508",
   "metadata": {},
   "outputs": [
    {
     "name": "stdout",
     "output_type": "stream",
     "text": [
      "Found 44250 validated image filenames belonging to 59 classes.\n",
      "Found 4214 validated image filenames belonging to 59 classes.\n",
      "Found 10536 validated image filenames belonging to 59 classes.\n"
     ]
    }
   ],
   "source": [
    "# PRE PROCESS\n",
    "# creating an image data generator\n",
    "from tensorflow.keras.preprocessing.image import ImageDataGenerator\n",
    "\n",
    "img_datagen = ImageDataGenerator(rescale=1./255)\n",
    "\n",
    "x_train = img_datagen.flow_from_dataframe(dataframe=train, x_col=\"File path\", y_col=\"Label\",\n",
    "                                         target_size=(IMG_HEIGHT,IMG_WIDTH), batch_size=BATCH_SIZE, class_mode='sparse', color_mode='grayscale')\n",
    "\n",
    "x_val = img_datagen.flow_from_dataframe(dataframe=val, x_col=\"File path\", y_col=\"Label\",\n",
    "                                         target_size=(IMG_HEIGHT,IMG_WIDTH), batch_size=BATCH_SIZE, class_mode='sparse', color_mode='grayscale')\n",
    "\n",
    "x_test = img_datagen.flow_from_dataframe(dataframe=test, x_col=\"File path\", y_col=\"Label\",\n",
    "                                         target_size=(IMG_HEIGHT,IMG_WIDTH), shuffle=False, batch_size=BATCH_SIZE, class_mode='sparse', color_mode='grayscale')"
   ]
  },
  {
   "cell_type": "code",
   "execution_count": 7,
   "id": "4501a5f4",
   "metadata": {},
   "outputs": [
    {
     "data": {
      "image/png": "[encoded data removed]",
      "text/plain": [
       "<Figure size 360x1080 with 5 Axes>"
      ]
     },
     "metadata": {
      "needs_background": "light"
     },
     "output_type": "display_data"
    }
   ],
   "source": [
    "#PANG PLOT ITO\n",
    "def plotImages(images_arr, probabilities = False):\n",
    "    fig, axes = plt.subplots(len(images_arr), 1, figsize=(5,len(images_arr) * 3))\n",
    "    for img, ax in zip( images_arr, axes):\n",
    "        ax.imshow(img)\n",
    "        ax.axis('off')\n",
    "    plt.show()\n",
    "\n",
    "sample_training_images, _ = next(x_train)\n",
    "plotImages(sample_training_images[:5])"
   ]
  },
  {
   "cell_type": "code",
   "execution_count": 8,
   "id": "4e2e9b59",
   "metadata": {
    "scrolled": true
   },
   "outputs": [],
   "source": [
    "def build_model(img_height, img_width, output_layer):\n",
    "    # BUILD THE MODEL\n",
    "    # CNN Architecture\n",
    "    model = Sequential()\n",
    "    model.add(Conv2D(32, (3, 3), input_shape=(img_height, img_width, 1))) # Input Layer\n",
    "    # Subsequent Layes | Hidden Layer\n",
    "    model.add(MaxPooling2D((2, 2)))\n",
    "    model.add(Conv2D(64, (3, 3)))\n",
    "    model.add(MaxPooling2D((2, 2)))\n",
    "    model.add(Conv2D(64, (3, 3)))\n",
    "\n",
    "    #Dense layers | Pang-classify\n",
    "    model.add(Flatten())\n",
    "    model.add(Dense(64, activation='relu'))\n",
    "    model.add(Dense(output_layer))\n",
    "\n",
    "    #Compile\n",
    "    model.compile(optimizer='adam',\n",
    "                 loss=tf.keras.losses.SparseCategoricalCrossentropy(from_logits=True),\n",
    "                 metrics=['accuracy'])\n",
    "    model.summary()\n",
    "    return model"
   ]
  },
  {
   "cell_type": "code",
   "execution_count": 9,
   "id": "90309a96",
   "metadata": {},
   "outputs": [
    {
     "name": "stderr",
     "output_type": "stream",
     "text": [
      "2021-11-07 19:46:41.819000: I tensorflow/stream_executor/cuda/cuda_gpu_executor.cc:937] successful NUMA node read from SysFS had negative value (-1), but there must be at least one NUMA node, so returning NUMA node zero\n",
      "2021-11-07 19:46:41.933892: I tensorflow/stream_executor/cuda/cuda_gpu_executor.cc:937] successful NUMA node read from SysFS had negative value (-1), but there must be at least one NUMA node, so returning NUMA node zero\n",
      "2021-11-07 19:46:41.934368: I tensorflow/stream_executor/cuda/cuda_gpu_executor.cc:937] successful NUMA node read from SysFS had negative value (-1), but there must be at least one NUMA node, so returning NUMA node zero\n",
      "2021-11-07 19:46:41.935189: I tensorflow/core/platform/cpu_feature_guard.cc:142] This TensorFlow binary is optimized with oneAPI Deep Neural Network Library (oneDNN) to use the following CPU instructions in performance-critical operations:  AVX2 FMA\n",
      "To enable them in other operations, rebuild TensorFlow with the appropriate compiler flags.\n",
      "2021-11-07 19:46:41.935479: I tensorflow/stream_executor/cuda/cuda_gpu_executor.cc:937] successful NUMA node read from SysFS had negative value (-1), but there must be at least one NUMA node, so returning NUMA node zero\n",
      "2021-11-07 19:46:41.935847: I tensorflow/stream_executor/cuda/cuda_gpu_executor.cc:937] successful NUMA node read from SysFS had negative value (-1), but there must be at least one NUMA node, so returning NUMA node zero\n",
      "2021-11-07 19:46:41.936178: I tensorflow/stream_executor/cuda/cuda_gpu_executor.cc:937] successful NUMA node read from SysFS had negative value (-1), but there must be at least one NUMA node, so returning NUMA node zero\n",
      "2021-11-07 19:46:42.250895: I tensorflow/stream_executor/cuda/cuda_gpu_executor.cc:937] successful NUMA node read from SysFS had negative value (-1), but there must be at least one NUMA node, so returning NUMA node zero\n",
      "2021-11-07 19:46:42.251189: I tensorflow/stream_executor/cuda/cuda_gpu_executor.cc:937] successful NUMA node read from SysFS had negative value (-1), but there must be at least one NUMA node, so returning NUMA node zero\n",
      "2021-11-07 19:46:42.251444: I tensorflow/stream_executor/cuda/cuda_gpu_executor.cc:937] successful NUMA node read from SysFS had negative value (-1), but there must be at least one NUMA node, so returning NUMA node zero\n",
      "2021-11-07 19:46:42.251682: I tensorflow/core/common_runtime/gpu/gpu_device.cc:1510] Created device /job:localhost/replica:0/task:0/device:GPU:0 with 1968 MB memory:  -> device: 0, name: NVIDIA GeForce GTX 1650, pci bus id: 0000:07:00.0, compute capability: 7.5\n",
      "2021-11-07 19:46:42.388126: I tensorflow/compiler/mlir/mlir_graph_optimization_pass.cc:185] None of the MLIR Optimization Passes are enabled (registered 2)\n"
     ]
    },
    {
     "name": "stdout",
     "output_type": "stream",
     "text": [
      "Model: \"sequential\"\n",
      "_________________________________________________________________\n",
      "Layer (type)                 Output Shape              Param #   \n",
      "=================================================================\n",
      "conv2d (Conv2D)              (None, 30, 30, 32)        320       \n",
      "_________________________________________________________________\n",
      "max_pooling2d (MaxPooling2D) (None, 15, 15, 32)        0         \n",
      "_________________________________________________________________\n",
      "conv2d_1 (Conv2D)            (None, 13, 13, 64)        18496     \n",
      "_________________________________________________________________\n",
      "max_pooling2d_1 (MaxPooling2 (None, 6, 6, 64)          0         \n",
      "_________________________________________________________________\n",
      "conv2d_2 (Conv2D)            (None, 4, 4, 64)          36928     \n",
      "_________________________________________________________________\n",
      "flatten (Flatten)            (None, 1024)              0         \n",
      "_________________________________________________________________\n",
      "dense (Dense)                (None, 64)                65600     \n",
      "_________________________________________________________________\n",
      "dense_1 (Dense)              (None, 59)                3835      \n",
      "=================================================================\n",
      "Total params: 125,179\n",
      "Trainable params: 125,179\n",
      "Non-trainable params: 0\n",
      "_________________________________________________________________\n",
      "Epoch 1/50\n"
     ]
    },
    {
     "name": "stderr",
     "output_type": "stream",
     "text": [
      "2021-11-07 19:46:43.399124: I tensorflow/stream_executor/cuda/cuda_dnn.cc:369] Loaded cuDNN version 8201\n"
     ]
    },
    {
     "name": "stdout",
     "output_type": "stream",
     "text": [
      "1383/1383 [==============================] - 134s 90ms/step - loss: 1.3241 - accuracy: 0.6010 - val_loss: 0.5480 - val_accuracy: 0.8253\n",
      "Epoch 2/50\n",
      "1383/1383 [==============================] - 93s 67ms/step - loss: 0.4155 - accuracy: 0.8584 - val_loss: 0.4393 - val_accuracy: 0.8469\n",
      "Epoch 3/50\n",
      "1383/1383 [==============================] - 31s 22ms/step - loss: 0.2784 - accuracy: 0.9043 - val_loss: 0.3234 - val_accuracy: 0.8923\n",
      "Epoch 4/50\n",
      "1383/1383 [==============================] - 33s 24ms/step - loss: 0.2205 - accuracy: 0.9243 - val_loss: 0.2468 - val_accuracy: 0.9146\n",
      "Epoch 5/50\n",
      "1383/1383 [==============================] - 36s 26ms/step - loss: 0.1849 - accuracy: 0.9367 - val_loss: 0.2441 - val_accuracy: 0.9162\n",
      "Epoch 6/50\n",
      "1383/1383 [==============================] - 33s 24ms/step - loss: 0.1558 - accuracy: 0.9463 - val_loss: 0.1950 - val_accuracy: 0.9317\n",
      "Epoch 7/50\n",
      "1383/1383 [==============================] - 33s 24ms/step - loss: 0.1373 - accuracy: 0.9524 - val_loss: 0.2570 - val_accuracy: 0.9172\n",
      "Epoch 8/50\n",
      "1383/1383 [==============================] - 33s 24ms/step - loss: 0.1212 - accuracy: 0.9571 - val_loss: 0.1942 - val_accuracy: 0.9366\n",
      "Epoch 9/50\n",
      "1383/1383 [==============================] - 33s 24ms/step - loss: 0.1171 - accuracy: 0.9612 - val_loss: 0.2008 - val_accuracy: 0.9317\n",
      "Epoch 10/50\n",
      "1383/1383 [==============================] - 33s 24ms/step - loss: 0.1021 - accuracy: 0.9654 - val_loss: 0.2720 - val_accuracy: 0.9219\n",
      "Epoch 11/50\n",
      "1383/1383 [==============================] - 33s 24ms/step - loss: 0.1117 - accuracy: 0.9626 - val_loss: 0.2871 - val_accuracy: 0.9295\n"
     ]
    },
    {
     "name": "stderr",
     "output_type": "stream",
     "text": [
      "2021-11-07 19:55:28.379711: W tensorflow/python/util/util.cc:348] Sets are not currently considered sequences, but this may change in the future, so consider avoiding using them.\n"
     ]
    },
    {
     "name": "stdout",
     "output_type": "stream",
     "text": [
      "INFO:tensorflow:Assets written to: models/tagalog_model/assets\n"
     ]
    }
   ],
   "source": [
    "# FIT THE DATA TO THE MODEL\n",
    "save_dir = 'models'\n",
    "saved_model = 'tagalog_model'\n",
    "OUTPUT_LAYERS = len(list(x_train.class_indices.keys()))\n",
    "PATIENCE = 3\n",
    "\n",
    "if saved_model not in os.listdir(save_dir):\n",
    "    model = build_model(IMG_HEIGHT, IMG_WIDTH, OUTPUT_LAYERS)\n",
    "    early_stopping = tf.keras.callbacks.EarlyStopping(monitor='val_loss',\n",
    "                                                patience=PATIENCE,\n",
    "                                                mode='min')\n",
    "\n",
    "    history = model.fit(x_train,\n",
    "                       epochs=epochs,\n",
    "                       validation_data=x_val,\n",
    "                       callbacks=early_stopping)\n",
    "    model.save(os.path.join(save_dir, saved_model))\n",
    "    model.save(f'{os.path.join(save_dir, saved_model)}.h5')\n",
    "else:\n",
    "    model = tf.keras.models.load_model(os.path.join(save_dir, saved_model))\n",
    "    model.summary()"
   ]
  },
  {
   "cell_type": "code",
   "execution_count": 10,
   "id": "89a1240d",
   "metadata": {},
   "outputs": [
    {
     "name": "stdout",
     "output_type": "stream",
     "text": [
      "330/330 [==============================] - 45s 138ms/step - loss: 0.2770 - accuracy: 0.9250\n",
      "Test accuracy is :  92.50189661979675 %\n"
     ]
    }
   ],
   "source": [
    "test_accuracy = model.evaluate(x_test)[1] * 100\n",
    "print('Test accuracy is : ',test_accuracy, '%' )"
   ]
  },
  {
   "cell_type": "code",
   "execution_count": 11,
   "id": "4fb1d271",
   "metadata": {},
   "outputs": [
    {
     "name": "stdout",
     "output_type": "stream",
     "text": [
      "{'a': 0, 'b': 1, 'ba': 2, 'be-bi': 3, 'bo-bu': 4, 'd': 5, 'da': 6, 'de-di': 7, 'do-du': 8, 'e-i': 9, 'g': 10, 'ga': 11, 'ge-gi': 12, 'go-gu': 13, 'h': 14, 'ha': 15, 'he-hi': 16, 'ho-hu': 17, 'k': 18, 'ka': 19, 'ke-ki': 20, 'ko-ku': 21, 'l': 22, 'la': 23, 'le-li': 24, 'lo-lu': 25, 'm': 26, 'ma': 27, 'me-mi': 28, 'mo-mu': 29, 'n': 30, 'na': 31, 'ne-ni': 32, 'ng': 33, 'nga': 34, 'nge-ngi': 35, 'ngo-ngu': 36, 'no-nu': 37, 'o-u': 38, 'p': 39, 'pa': 40, 'pe-pi': 41, 'po-pu': 42, 's': 43, 'sa': 44, 'se-si': 45, 'so-su': 46, 't': 47, 'ta': 48, 'te-ti': 49, 'to-tu': 50, 'w': 51, 'wa': 52, 'we-wi': 53, 'wo-wu': 54, 'y': 55, 'ya': 56, 'ye-yi': 57, 'yo-yu': 58}\n"
     ]
    }
   ],
   "source": [
    "# Show class index\n",
    "print(x_train.class_indices)\n",
    "baybayin_classes = list(x_train.class_indices.keys())"
   ]
  }
 ],
 "metadata": {
  "kernelspec": {
   "display_name": "Python 3 (ipykernel)",
   "language": "python",
   "name": "python3"
  },
  "language_info": {
   "codemirror_mode": {
    "name": "ipython",
    "version": 3
   },
   "file_extension": ".py",
   "mimetype": "text/x-python",
   "name": "python",
   "nbconvert_exporter": "python",
   "pygments_lexer": "ipython3",
   "version": "3.8.11"
  }
 },
 "nbformat": 4,
 "nbformat_minor": 5
}
